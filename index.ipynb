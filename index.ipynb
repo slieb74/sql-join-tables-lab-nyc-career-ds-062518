{
 "cells": [
  {
   "cell_type": "markdown",
   "metadata": {},
   "source": [
    "# SQL Join Tables Lab"
   ]
  },
  {
   "cell_type": "markdown",
   "metadata": {},
   "source": [
    "In this lab we will integrate join tables into our SQL queries.  The join table creates a \"many-to-many\" relationship between two sets of data."
   ]
  },
  {
   "cell_type": "markdown",
   "metadata": {},
   "source": [
    "## Objectives\n",
    "\n",
    "1.  Use `JOIN`s to answer questions about data having a \"many-to-many\" relationship\n",
    "2.  Combine `JOIN` statements with grouping and sorting methods like `ORDER BY` and `GROUP BY`"
   ]
  },
  {
   "cell_type": "markdown",
   "metadata": {},
   "source": [
    "## Superheroes and Superpowers\n",
    "\n",
    "In the previous lab, we worked with a table containing superheroes and a table containing superhero teams.  Many of the superheroes \"belonged to\" one of these superhero teams through the `squad_id` foreign key.  Superheroes also had a `name`, a `real_identity`, a `superpower`, and a `weakness`.\n",
    "\n",
    "However, can't superheroes have more than one `superpower`?  In the previous superheroes table, Superman had only one power, *superstrength*.  Superman has other superpowers, though, like the ability to *fly*, the ability to *breathe in space*, and *x-ray vision*.\n",
    "\n",
    "Furthermore, multiple superheroes might possess the same `superpower`.  For instance, both Superman and Thor ought to possess *superstrength*.  How can we express these relationships programmatically?  We can use a join table to track `hero_id`s and `power_id`s!\n",
    "\n"
   ]
  },
  {
   "cell_type": "markdown",
   "metadata": {},
   "source": [
    "## Tables\n",
    "\n",
    "We created a separate `powers` table and removed the `superpower` column from the previous superheroes.  We also created a join table called `hero_powers` to make the appropriate \"many-to-many\" association between `heroes` and `powers`.  All database tables are shown below:"
   ]
  },
  {
   "cell_type": "markdown",
   "metadata": {},
   "source": [
    "`heroes`:\n",
    "\n",
    "id  |name           |real_identity        |weakness          |squad_id\n",
    "----|---------------|---------------------|-------------------------------\n",
    "1   |Batman         |Bruce Wayne          |mortal human      |2\n",
    "2   |Superman       |Clark Kent           |kryptonite        |2\n",
    "3   |Thor           |Thor Odinson         |ego               |1\n",
    "4   |Iron Man       |Tony Stark           |mortal human      |1\n",
    "5   |Wonder Woman   |Diana Prince         |broken bracelets  |2\n",
    "6   |Captain America|Steve Rogers         |mortal human      |1\n",
    "7   |Aquaman        |Arthur Curry         |needs water nearby|2\n",
    "8   |Black Panther  |T'Challa             |mortal human      |1\n",
    "9   |Black Widow    |Natasha Romanoff     |mortal human      |1\n",
    "10  |Hulk           |Bruce Banner         |rage              |1\n",
    "11  |Cyborg         |Victor Stone         |hackers           |2\n",
    "12  |Megaman        |NULL                 |hackers           |NULL\n",
    "13  |StretcherFlex  |Jean-Claude Van Damme|mortal human      |NULL\n",
    "14  |Goku           |Kakarot              |myopia            |NULL\n",
    "15  |Green Lantern  |Alan Scott           |the color yellow  |2\n",
    "\n",
    "`powers`:\n",
    "\n",
    "id |type                   |damage_points|\n",
    "---|-----------------------|-------------|\n",
    "1  |works hard             |5            |\n",
    "2  |superstrength          |20           |\n",
    "3  |flight                 |10           |\n",
    "4  |summons lightning      |10           |\n",
    "5  |ultra smart            |20           |\n",
    "6  |unlimited financing    |5            |\n",
    "7  |breathes underwater    |5            |\n",
    "8  |enhanced speed         |10           |\n",
    "9  |enhanced agility       |10           |\n",
    "10 |expert martial artist  |15           |\n",
    "11 |rage                   |10           |\n",
    "12 |technorganic physiology|10           |\n",
    "13 |enhanced flexibility   |10           |\n",
    "14 |magic ring             |1            |\n",
    "15 |advanced weaponry      |10           |\n",
    "16 |breathes in outer space|10           |\n",
    "17 |x-ray vision           |10           |\n",
    "\n",
    "\n",
    "`hero_powers`:\n",
    "\n",
    "|hero_id|power_id\n",
    "|-------|--------\n",
    "|1      |1\n",
    "|1      |6\n",
    "|1      |10\n",
    "|1      |15\n",
    "|2      |2\n",
    "|2      |3\n",
    "|2      |8\n",
    "|2      |9\n",
    "|2      |13\n",
    "|2      |16\n",
    "|2      |17\n",
    "|3      |4\n",
    "|3      |2\n",
    "|3      |16\n",
    "|4      |1\n",
    "|4      |5\n",
    "|4      |6\n",
    "|4      |15\n",
    "|5      |2\n",
    "|5      |8\n",
    "|5      |9\n",
    "|5      |15\n",
    "|6      |1\n",
    "|6      |2\n",
    "|6      |8\n",
    "|6      |9\n",
    "|6      |15\n",
    "|7      |7\n",
    "|8      |8\n",
    "|8      |9\n",
    "|8      |13\n",
    "|8      |15\n",
    "|9      |5\n",
    "|9      |10\n",
    "|9      |13\n",
    "|9      |9\n",
    "|10     |2\n",
    "|10     |11\n",
    "|11     |2\n",
    "|11     |15\n",
    "|11     |12\n",
    "|12     |7\n",
    "|12     |12\n",
    "|12     |17\n",
    "|13     |13\n",
    "|14     |1\n",
    "|14     |2\n",
    "|14     |3\n",
    "|14     |8\n",
    "|14     |9\n",
    "|14     |10\n",
    "|14     |16\n",
    "|15     |14\n",
    "\n",
    "\n",
    "`squads`:\n",
    "\n",
    "id  |name\n",
    "----|--------\n",
    "1   |Avengers\n",
    "2   |Justice League\n",
    "3   |The Illuminati"
   ]
  },
  {
   "cell_type": "markdown",
   "metadata": {},
   "source": [
    "Thanks to the `hero_powers` join table, now each `hero` can have many `powers`, and every `power` can be associated with multiple `heroes`."
   ]
  },
  {
   "cell_type": "markdown",
   "metadata": {},
   "source": [
    "## Queries\n",
    "\n",
    "Write your SQL queries inside the strings found in the functions already provided in the `sql_queries.py` file to get the tests to pass.  If you wish to write your query in multiple lines, make sure to wrap it inside triple quotation marks."
   ]
  },
  {
   "cell_type": "markdown",
   "metadata": {},
   "source": [
    "* `select_expert_martial_artists_using_id`\n",
    "\n",
    "> Write a query that joins the `heroes` table and the `hero_powers` table to select the names of all heroes that have a `power.id` of 10.  \n",
    "\n",
    "* `select_all_power_types_for_batman`\n",
    "\n",
    "> Write a query that returns all of Batman's power types.\n",
    "\n",
    "Although it is easy for a computer to remember heroes and powers based upon their id numbers, we human beings struggle remembering all this information.  From here to the end of the lab, we will write queries that join the `heroes`, `hero_powers`, and `powers` tables to work with data we can easily interpret.\n",
    "\n",
    "* `select_total_damage_points_for_wonder_woman`\n",
    "\n",
    "> Write a query that adds the damage points for all of Wonder Woman's powers.\n",
    "\n",
    "* `list_iron_mans_powers_and_respective_damage_points`\n",
    "\n",
    "> Write a query that lists all of Iron Man's power types and respective damage points.\n",
    "\n",
    "* `total_power_of_only_humans`\n",
    "\n",
    "> Write a query that returns the total damage points of all human superheroes.  We know that all human superheroes have a weakness of \"mortal human\".\n",
    "\n",
    "* `list_heroes_and_their_num_of_powers_ordered_by_hero_name_alphabetically`\n",
    "\n",
    "> This query returns names of all heroes and counts their total number of powers aliased as `num_of_powers`.\n",
    "\n",
    "\n",
    "* `select_heroes_name_and_sum_damage_points_ordered_by_most_damage_to_least`\n",
    "\n",
    "> Write a query that orders all superheroes based upon their total number of damage points.  A hero's total number of damage points should be aliased as `total_damage`.  \n",
    "\n",
    "* `all_star_team`\n",
    "\n",
    "> Write a query that determines which superheroes should be part of a \"Superhero All-Star Team\".  Heroes belong on the team if their total damage points (again aliased as `total_damage`) are greater than 45."
   ]
  },
  {
   "cell_type": "markdown",
   "metadata": {},
   "source": [
    "## Summary"
   ]
  },
  {
   "cell_type": "markdown",
   "metadata": {},
   "source": [
    "Great work! In this lab we practiced writing SQL queries on tables with a many to many relationship. We used JOIN statements to query results across tables and select only instances that met the requirements "
   ]
  }
 ],
 "metadata": {
  "kernelspec": {
   "display_name": "Python 3",
   "language": "python",
   "name": "python3"
  },
  "language_info": {
   "codemirror_mode": {
    "name": "ipython",
    "version": 3
   },
   "file_extension": ".py",
   "mimetype": "text/x-python",
   "name": "python",
   "nbconvert_exporter": "python",
   "pygments_lexer": "ipython3",
   "version": "3.6.4"
  }
 },
 "nbformat": 4,
 "nbformat_minor": 2
}
